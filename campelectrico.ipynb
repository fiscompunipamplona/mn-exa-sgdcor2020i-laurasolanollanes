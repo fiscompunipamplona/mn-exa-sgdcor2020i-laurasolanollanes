{
  "nbformat": 4,
  "nbformat_minor": 0,
  "metadata": {
    "colab": {
      "name": "campelectrico.ipynb",
      "provenance": [],
      "collapsed_sections": []
    },
    "kernelspec": {
      "name": "python3",
      "display_name": "Python 3"
    }
  },
  "cells": [
    {
      "cell_type": "code",
      "metadata": {
        "id": "kajZsYEHMas1",
        "colab_type": "code",
        "colab": {
          "base_uri": "https://localhost:8080/",
          "height": 361
        },
        "outputId": "2fda31ed-85d9-44e3-876e-d59d857e888f"
      },
      "source": [
        "from numpy import arctan,cos,linspace,zeros,pi,transpose,exp\n",
        "from pylab import plot,imshow\n",
        "import matplotlib.pyplot as plt\n",
        "import math as mt\n",
        "def simpson(a,b,n,y1):\n",
        " h=(b-a)/n\n",
        " x=linspace(a,b,n+1)\n",
        " y=1/(x**2+y1**2)\n",
        " k_1=0\n",
        " k_2=0\n",
        " if n%2==0:\n",
        "   n1,n2=n,n-1\n",
        " else:\n",
        "   n1,n2=n-1,n\n",
        " for i in range(1,n1,2):\n",
        "   k_1=y[i]+k_1\n",
        " for i in range(2,n2,2):\n",
        "   k_2=y[i]+k_2\n",
        " I=(y[0]+y[n]+4*k_1+2*k_2)*h/3\n",
        " return(I)\n",
        "n=10\n",
        "epsilon=8.85418781e-12\n",
        "x1=linspace(-10,10,n+1)\n",
        "x2=linspace(-10,10,n+1)\n",
        "\n",
        "k_1=0\n",
        "A=zeros([len(x1),len(x2)],dtype=float,order='c')\n",
        "for i in range(0,len(x1)):\n",
        "  k_2=0\n",
        "  for j in range(0,len(x2)):\n",
        "    if x2[j]>=0:\n",
        "      A[k_2,k_1]=(5/(4*pi*epsilon))*simpson(-2,2,n,x2[j])*cos(arctan(x1[i]/abs(x2[j])))\n",
        "      k_2=k_2+1\n",
        "    elif x2[j]<0:\n",
        "      A[k_2,k_1]=(5/(4*pi*epsilon))*simpson(-2,2,n,x2[j])*cos(arctan(x1[i]/abs(x2[j])))\n",
        "      k_2=k_2+1\n",
        "  k_1=k_1+1\n",
        "\n",
        "imshow(A,cmap='jet',origin='lower')\n",
        "plt.colorbar()\n"
      ],
      "execution_count": 8,
      "outputs": [
        {
          "output_type": "stream",
          "text": [
            "/usr/local/lib/python3.6/dist-packages/ipykernel_launcher.py:9: RuntimeWarning: divide by zero encountered in true_divide\n",
            "  if __name__ == '__main__':\n",
            "/usr/local/lib/python3.6/dist-packages/ipykernel_launcher.py:33: RuntimeWarning: divide by zero encountered in double_scalars\n",
            "/usr/local/lib/python3.6/dist-packages/ipykernel_launcher.py:33: RuntimeWarning: invalid value encountered in double_scalars\n"
          ],
          "name": "stderr"
        },
        {
          "output_type": "execute_result",
          "data": {
            "text/plain": [
              "<matplotlib.colorbar.Colorbar at 0x7f346d39cc88>"
            ]
          },
          "metadata": {
            "tags": []
          },
          "execution_count": 8
        },
        {
          "output_type": "display_data",
          "data": {
            "image/png": "[encoded data removed]",
            "text/plain": [
              "<Figure size 432x288 with 2 Axes>"
            ]
          },
          "metadata": {
            "tags": [],
            "needs_background": "light"
          }
        }
      ]
    },
    {
      "cell_type": "code",
      "metadata": {
        "id": "_iy22ueeMgQo",
        "colab_type": "code",
        "colab": {}
      },
      "source": [
        ""
      ],
      "execution_count": 0,
      "outputs": []
    }
  ]
}